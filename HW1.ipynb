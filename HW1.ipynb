{
  "nbformat": 4,
  "nbformat_minor": 0,
  "metadata": {
    "colab": {
      "name": "HW1.ipynb",
      "provenance": [],
      "collapsed_sections": [],
      "authorship_tag": "ABX9TyPPW2lpGSiDYKz/4+osTG9/",
      "include_colab_link": true
    },
    "kernelspec": {
      "name": "python3",
      "display_name": "Python 3"
    }
  },
  "cells": [
    {
      "cell_type": "markdown",
      "metadata": {
        "id": "view-in-github",
        "colab_type": "text"
      },
      "source": [
        "<a href=\"https://colab.research.google.com/github/rbespin/FoodWaterLoss/blob/master/HW1.ipynb\" target=\"_parent\"><img src=\"https://colab.research.google.com/assets/colab-badge.svg\" alt=\"Open In Colab\"/></a>"
      ]
    },
    {
      "cell_type": "code",
      "metadata": {
        "id": "Eywxbr3765Wl"
      },
      "source": [
        "#HW1 Robert Espinoza"
      ],
      "execution_count": null,
      "outputs": []
    },
    {
      "cell_type": "code",
      "metadata": {
        "id": "sNrHAxJJ69Oa",
        "outputId": "c41dc16e-cf5d-489d-a1ae-50c2368340c8",
        "colab": {
          "base_uri": "https://localhost:8080/",
          "height": 51
        }
      },
      "source": [
        "#Problem 1\n",
        "import tensorflow as tf\n",
        "print(tf.__version__)\n",
        "\n",
        "import keras as ks\n",
        "print(ks.__version__)"
      ],
      "execution_count": null,
      "outputs": [
        {
          "output_type": "stream",
          "text": [
            "2.3.0\n",
            "2.4.3\n"
          ],
          "name": "stdout"
        }
      ]
    },
    {
      "cell_type": "code",
      "metadata": {
        "id": "wy0tH3vy7Fgd",
        "outputId": "0561a81c-8a12-4a5f-ac12-8b638177a74c",
        "colab": {
          "base_uri": "https://localhost:8080/",
          "height": 34
        }
      },
      "source": [
        "#Problem 2\n",
        "# Create a constant tensor ‘x’ with values from 100 to 109.\n",
        "# Create a constant tensor ‘y’ with values 34, 28, 45, 67, 89, 93, 24, 49, 11, 7\n",
        "# Add tensor ‘x’ and ‘y’\n",
        "x = tf.constant([100,101,102,103,104,105,106,107,108,109])\n",
        "y = tf.constant([34,28,45,67,89,93,24,49,11,7])\n",
        "sum = tf.add(x,y)\n",
        "print(sum)"
      ],
      "execution_count": null,
      "outputs": [
        {
          "output_type": "stream",
          "text": [
            "tf.Tensor([134 129 147 170 193 198 130 156 119 116], shape=(10,), dtype=int32)\n"
          ],
          "name": "stdout"
        }
      ]
    },
    {
      "cell_type": "code",
      "metadata": {
        "id": "Df68qbCy7Ndu",
        "outputId": "3e4daedf-8159-41a6-c626-e71d5a47763f",
        "colab": {
          "base_uri": "https://localhost:8080/",
          "height": 221
        }
      },
      "source": [
        "#Problem 3\n",
        "# Suppose ‘x1’ a tensor of shape (2,4).\n",
        "#   x1 = tf.constant([[1,2,3,4],[5,6,7,8]])\n",
        "# Create a new tensor with shape of (4,2,4) using ‘tf.stack’ function.\n",
        "x1 = tf.constant([[1,2,3,4],[5,6,7,8]])\n",
        "x1 = tf.stack([x1,x1,x1,x1])\n",
        "print(x1)"
      ],
      "execution_count": null,
      "outputs": [
        {
          "output_type": "stream",
          "text": [
            "tf.Tensor(\n",
            "[[[1 2 3 4]\n",
            "  [5 6 7 8]]\n",
            "\n",
            " [[1 2 3 4]\n",
            "  [5 6 7 8]]\n",
            "\n",
            " [[1 2 3 4]\n",
            "  [5 6 7 8]]\n",
            "\n",
            " [[1 2 3 4]\n",
            "  [5 6 7 8]]], shape=(4, 2, 4), dtype=int32)\n"
          ],
          "name": "stdout"
        }
      ]
    },
    {
      "cell_type": "code",
      "metadata": {
        "id": "rdxChLw17ZZA",
        "outputId": "1b48e163-42c3-4a59-f551-caa58cc2c47d",
        "colab": {
          "base_uri": "https://localhost:8080/",
          "height": 68
        }
      },
      "source": [
        "# Problem 4\n",
        "# Suppose ‘x1’ a tensor of shape (2,4).\n",
        "#   x1 = tf.constant([[1,2,3,4],[5,6,7,8]])\n",
        "# Create a new tensor with shape of (1,2,4).\n",
        "x1 = tf.constant([[1,2,3,4],[5,6,7,8]])\n",
        "x1 = tf.stack([x1])\n",
        "print(x1)"
      ],
      "execution_count": null,
      "outputs": [
        {
          "output_type": "stream",
          "text": [
            "tf.Tensor(\n",
            "[[[1 2 3 4]\n",
            "  [5 6 7 8]]], shape=(1, 2, 4), dtype=int32)\n"
          ],
          "name": "stdout"
        }
      ]
    },
    {
      "cell_type": "code",
      "metadata": {
        "id": "Rl1DizF273Dd",
        "outputId": "7c9ac81e-ac05-4242-9312-5b9a8865395a",
        "colab": {
          "base_uri": "https://localhost:8080/",
          "height": 136
        }
      },
      "source": [
        "# Problem 5\n",
        "# Suppose ‘x1’ a tensor of shape (3,4).\n",
        "#   x1 = tf.constant([[1,2,3,4],[5,6,7,8],[9,10,11,12]])\n",
        "# Re-shape this tensor into a new tensor of shape (6,2). Print the values of the\n",
        "#  new tensor.\n",
        "x1 = tf.constant([[1,2,3,4],[5,6,7,8],[9,10,11,12]])\n",
        "x1 = tf.reshape(x1,[6,2])\n",
        "print(x1)"
      ],
      "execution_count": null,
      "outputs": [
        {
          "output_type": "stream",
          "text": [
            "tf.Tensor(\n",
            "[[ 1  2]\n",
            " [ 3  4]\n",
            " [ 5  6]\n",
            " [ 7  8]\n",
            " [ 9 10]\n",
            " [11 12]], shape=(6, 2), dtype=int32)\n"
          ],
          "name": "stdout"
        }
      ]
    },
    {
      "cell_type": "code",
      "metadata": {
        "id": "ehVPalwT8AB1"
      },
      "source": [
        "# Problem 6\n",
        "# If variables a, b, c, d, and f are scalars, write TensorFlow programs to \n",
        "# compute and display the following expressions. Test your statements for \n",
        "# the following values.\n",
        "# a = 1.12, b = 2.34, c = 0.72, d = 0.81, f = 19.83"
      ],
      "execution_count": null,
      "outputs": []
    },
    {
      "cell_type": "code",
      "metadata": {
        "id": "nltx8JBPNsan"
      },
      "source": [
        "# This function assumes shape (:,1,5) with [a,b,c,d,f]\n",
        "def compute_x(tensor):\n",
        "  a = tensor[:,0]\n",
        "  b = tensor[:,1]\n",
        "  c = tensor[:,2]\n",
        "  f = tensor[:,4]\n",
        "  return(tf.add(tf.add(1,tf.divide(a,b)),tf.divide(c,tf.square(f))))\n"
      ],
      "execution_count": null,
      "outputs": []
    },
    {
      "cell_type": "code",
      "metadata": {
        "id": "TYNvmu-RTonw"
      },
      "source": [
        "# This function assumes shape (:,1,5) with [a,b,c,d,f]\n",
        "def compute_s(tensor):\n",
        "  a = tensor[:,0]\n",
        "  b = tensor[:,1]\n",
        "  c = tensor[:,2]\n",
        "  d = tensor[:,3]\n",
        "  return(tf.divide(tf.subtract(b,a),tf.subtract(d,c)))"
      ],
      "execution_count": 173,
      "outputs": []
    },
    {
      "cell_type": "code",
      "metadata": {
        "id": "CxKV4VppUIMt"
      },
      "source": [
        "# This function assumes shape (:,1,5) with [a,b,c,d,f]\n",
        "def compute_r(tensor):\n",
        "  a = tensor[:,0]\n",
        "  b = tensor[:,1]\n",
        "\n",
        "  c = tensor[:,2]\n",
        "  d = tensor[:,3]\n",
        "  element_one = tf.divide(1,a)\n",
        "  element_two = tf.divide(1,b)\n",
        "  element_three = tf.divide(1,c)\n",
        "  element_four = tf.divide(1,d)\n",
        "  sum_one_two = tf.add(element_one,element_two)\n",
        "  sum_three_four = tf.add(element_three,element_four)\n",
        "  divisor = tf.add(sum_one_two,sum_three_four)\n",
        "  return(tf.divide(1,divisor))"
      ],
      "execution_count": null,
      "outputs": []
    },
    {
      "cell_type": "code",
      "metadata": {
        "id": "3y3rPohIVOPj"
      },
      "source": [
        "# This function assumes shape (:,1,5) with [a,b,c,d,f]\n",
        "def compute_y(tensor):\n",
        "  a = tensor[:,0]\n",
        "  b = tensor[:,1]\n",
        "  c = tensor[:,2]\n",
        "  f = tensor[:,4]\n",
        "  element_one = tf.multiply(a,b)\n",
        "  element_two = tf.divide(1,c)\n",
        "  element_three = tf.divide(tf.square(f),2)\n",
        "  divisor = tf.multiply(tf.multiply(element_one,element_two),element_three)\n",
        "  return( divisor )"
      ],
      "execution_count": null,
      "outputs": []
    },
    {
      "cell_type": "code",
      "metadata": {
        "id": "3vs-ZpLI8GeU"
      },
      "source": [
        "a = 1.12\n",
        "b = 2.34\n",
        "c = 0.72\n",
        "d = 0.81\n",
        "f = 19.83\n",
        "tensor = tf.constant([a,b,c,d,f])"
      ],
      "execution_count": null,
      "outputs": []
    },
    {
      "cell_type": "code",
      "metadata": {
        "id": "h0hk-ccjXoRm",
        "outputId": "12ce45a3-b4ca-4e7e-b49c-9203477eb3a8",
        "colab": {
          "base_uri": "https://localhost:8080/",
          "height": 85
        }
      },
      "source": [
        "print(compute_x(tf.stack([tensor])))\n",
        "print(compute_s(tf.stack([tensor])))\n",
        "print(compute_r(tf.stack([tensor])))\n",
        "print(compute_y(tf.stack([tensor])))"
      ],
      "execution_count": null,
      "outputs": [
        {
          "output_type": "stream",
          "text": [
            "tf.Tensor([1.4804634], shape=(1,), dtype=float32)\n",
            "tf.Tensor([13.555558], shape=(1,), dtype=float32)\n",
            "tf.Tensor([0.25357127], shape=(1,), dtype=float32)\n",
            "tf.Tensor([715.6765], shape=(1,), dtype=float32)\n"
          ],
          "name": "stdout"
        }
      ]
    },
    {
      "cell_type": "code",
      "metadata": {
        "id": "QQuyrbgUNH1p",
        "outputId": "28ef4d23-6e44-4fbd-df49-3356fb912b1c",
        "colab": {
          "base_uri": "https://localhost:8080/",
          "height": 85
        }
      },
      "source": [
        "# Peforming same operations with higher dimensional tensors\n",
        "a = 1.12\n",
        "b = 2.34\n",
        "c = 0.72\n",
        "d = 0.81\n",
        "f = 19.83\n",
        "tensor = tf.constant([a,b,c,d,f])\n",
        "tensor2 = tf.constant([1.0,1.0,1.0,1.0,1.0])\n",
        "tensor_combination = tf.stack([tensor,tensor2])\n",
        "print(compute_x(tensor_combination))\n",
        "print(compute_s(tensor_combination))\n",
        "print(compute_r(tensor_combination))\n",
        "print(compute_y(tensor_combination))"
      ],
      "execution_count": null,
      "outputs": [
        {
          "output_type": "stream",
          "text": [
            "tf.Tensor([1.4804634 3.       ], shape=(2,), dtype=float32)\n",
            "tf.Tensor([13.555558       nan], shape=(2,), dtype=float32)\n",
            "tf.Tensor([0.25357127 0.25      ], shape=(2,), dtype=float32)\n",
            "tf.Tensor([7.156765e+02 5.000000e-01], shape=(2,), dtype=float32)\n"
          ],
          "name": "stdout"
        }
      ]
    },
    {
      "cell_type": "code",
      "metadata": {
        "id": "byJRFwiQNRQM",
        "outputId": "d0d9d625-b1f4-4f17-b2a1-908f81c9cbb7",
        "colab": {
          "base_uri": "https://localhost:8080/",
          "height": 221
        }
      },
      "source": [
        "# Problem 7a\n",
        "A = tf.constant([[4,-2,1],[6,8,-5],[7,9,10]])\n",
        "B = tf.constant([[6,9,-4],[7,5,3],[-8,2,1]])\n",
        "C = tf.constant([[-4,-5,2],[10,6,1],[3,-9,8]])\n",
        "print(tf.matmul(A,tf.add(B,C)))\n",
        "print(tf.add(tf.matmul(A,B),tf.matmul(A,C)))\n",
        "print((tf.matmul(A,tf.add(B,C)))==(tf.add(tf.matmul(A,B),tf.matmul(A,C))))"
      ],
      "execution_count": null,
      "outputs": [
        {
          "output_type": "stream",
          "text": [
            "tf.Tensor(\n",
            "[[-31 -13  -7]\n",
            " [173 147 -25]\n",
            " [117  57 112]], shape=(3, 3), dtype=int32)\n",
            "tf.Tensor(\n",
            "[[-31 -13  -7]\n",
            " [173 147 -25]\n",
            " [117  57 112]], shape=(3, 3), dtype=int32)\n",
            "tf.Tensor(\n",
            "[[ True  True  True]\n",
            " [ True  True  True]\n",
            " [ True  True  True]], shape=(3, 3), dtype=bool)\n"
          ],
          "name": "stdout"
        }
      ]
    },
    {
      "cell_type": "code",
      "metadata": {
        "id": "iEGIp5tOageH"
      },
      "source": [
        "# Problem 7b\n",
        "A = tf.constant([[4,-2,1],[6,8,-5],[7,9,10]])\n",
        "B = tf.constant([[6,9,-4],[7,5,3],[-8,2,1]])\n",
        "C = tf.constant([[-4,-5,2],[10,6,1],[3,-9,8]])"
      ],
      "execution_count": 175,
      "outputs": []
    },
    {
      "cell_type": "code",
      "metadata": {
        "id": "B1aTXK5hbMx6",
        "outputId": "d42249ab-0876-4707-eafc-875075ade3a3",
        "colab": {
          "base_uri": "https://localhost:8080/",
          "height": 221
        }
      },
      "source": [
        "print(tf.matmul(tf.matmul(A,B),C))\n",
        "print(tf.matmul(A,tf.matmul(B,C)))\n",
        "print(tf.matmul(tf.matmul(A,B),C) == tf.matmul(A,tf.matmul(B,C)))"
      ],
      "execution_count": 177,
      "outputs": [
        {
          "output_type": "stream",
          "text": [
            "tf.Tensor(\n",
            "[[ 209  347 -136]\n",
            " [ 297 -111  308]\n",
            " [1207  562  250]], shape=(3, 3), dtype=int32)\n",
            "tf.Tensor(\n",
            "[[ 209  347 -136]\n",
            " [ 297 -111  308]\n",
            " [1207  562  250]], shape=(3, 3), dtype=int32)\n",
            "tf.Tensor(\n",
            "[[ True  True  True]\n",
            " [ True  True  True]\n",
            " [ True  True  True]], shape=(3, 3), dtype=bool)\n"
          ],
          "name": "stdout"
        }
      ]
    },
    {
      "cell_type": "code",
      "metadata": {
        "id": "Qugt7h2DAhyt"
      },
      "source": [
        ""
      ],
      "execution_count": 176,
      "outputs": []
    }
  ]
}